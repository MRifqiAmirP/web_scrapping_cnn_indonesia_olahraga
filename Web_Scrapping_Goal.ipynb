{
 "cells": [
  {
   "cell_type": "code",
   "execution_count": 10,
   "metadata": {
    "id": "dqfauqCcVNxp"
   },
   "outputs": [],
   "source": [
    "import requests\n",
    "from bs4 import BeautifulSoup as bs\n",
    "import pandas as pd\n",
    "from prettytable import PrettyTable"
   ]
  },
  {
   "cell_type": "code",
   "execution_count": 11,
   "metadata": {
    "id": "oVsy6rzqWTxa"
   },
   "outputs": [],
   "source": [
    "url = requests.get('https://www.goal.com/id/berita/jadwal-siaran-langsung-sepakbola/1qomojcjyge9n1nr2voxutdc1n').text"
   ]
  },
  {
   "cell_type": "code",
   "execution_count": 12,
   "metadata": {
    "id": "8p5jeVKEWeTq"
   },
   "outputs": [],
   "source": [
    "url_soup = bs(url, 'lxml')\n",
    "judul = url_soup.find_all('h2')\n",
    "tanggal_raw = url_soup.find_all('h3')\n",
    "div_table = url_soup.find_all('div', {\"class\":\"table-container-scroll\"})"
   ]
  },
  {
   "cell_type": "code",
   "execution_count": 13,
   "metadata": {
    "id": "zjgojzQKr-Ts"
   },
   "outputs": [],
   "source": [
    "table = []\n",
    "tanggal = []\n",
    "\n",
    "for x in div_table:\n",
    "  table.append(x)\n",
    "\n",
    "for x in tanggal_raw:\n",
    "  tanggal.append(x)"
   ]
  },
  {
   "cell_type": "code",
   "execution_count": 14,
   "metadata": {
    "id": "7_D_NmbxmtPT"
   },
   "outputs": [],
   "source": [
    "df_list = []\n",
    "\n",
    "for jadwal in range(0, len(div_table)):\n",
    "    kick_off = []\n",
    "    pertandingan = []\n",
    "    kompetisi = []\n",
    "    stasiun_tv = []\n",
    "\n",
    "    for row in table[jadwal].find_all('tr'):\n",
    "        tds = row.find_all('td')\n",
    "        if tds:\n",
    "            kick_off.append(tds[0].text)\n",
    "            pertandingan.append(tds[1].text)\n",
    "            kompetisi.append(tds[2].text)\n",
    "            stasiun_tv.append(tds[3].text)\n",
    "\n",
    "    data = {\n",
    "        'Kick-off': kick_off,\n",
    "        'Pertandingan': pertandingan,\n",
    "        'Kompetisi': kompetisi,\n",
    "        'Stasiun TV': stasiun_tv\n",
    "    }\n",
    "\n",
    "    df_list.append(pd.DataFrame(data))\n",
    "\n",
    "# print(df_list[0])"
   ]
  },
  {
   "cell_type": "code",
   "execution_count": 15,
   "metadata": {
    "colab": {
     "base_uri": "https://localhost:8080/"
    },
    "id": "w6KSbFN6m19H",
    "outputId": "a031821c-5e74-478d-d8f8-c7618e08f064"
   },
   "outputs": [
    {
     "name": "stdout",
     "output_type": "stream",
     "text": [
      "Selasa, 17 September 2024\n",
      "+----------+--------------------------------------------+---------------------------+------------------+\n",
      "| Kick-off |                Pertandingan                |         Kompetisi         |    Stasiun TV    |\n",
      "+----------+--------------------------------------------+---------------------------+------------------+\n",
      "|  01:00   |           Al-Ahli vs Persepolis            |    Liga Champions Asia    |  RCTI / Vision+  |\n",
      "|  02:00   |         Rayo Vallecano vs Osasuna          |        Liga Spanyol       |  beIN Sports 3   |\n",
      "|  15:30   |         PSBS Biak vs Madura United         |      Liga 1 Indonesia     | Vidio / Indosiar |\n",
      "|  17:00   |     Gwangju FC vs Yokohama F. Marinos      | Liga Champions Asia Elite |     Vision+      |\n",
      "|  17:00   | Shandong Taishan vs Central Coast Mariners | Liga Champions Asia Elite |     Vision+      |\n",
      "|  19:00   |       Buriram United vs Vissel Kobe        | Liga Champions Asia Elite |     Vision+      |\n",
      "|  19:00   |    Borneo FC Samarinda vs Malut United     |      Liga 1 Indonesia     | Vidio / Indosiar |\n",
      "|  19:00   |         Juventus vs PSV Eindhoven          |     UEFA Youth League     |  beIN Sports 3   |\n",
      "|  21:00   |            Pakhtakor vs Al Wasl            | Liga Champions Asia Elite |     Vision+      |\n",
      "|  21:00   |       Bayern Munich vs Dinamo Zagreb       |     UEFA Youth League     |  beIN Sports 3   |\n",
      "|  23:00   |           Al-Rayyan vs Al-Hilal            | Liga Champions Asia Elite |     Vision+      |\n",
      "|  23:45   |         Juventus vs PSV Eindhoven          |       Liga Champions      |  beIN Sports 1   |\n",
      "|  23:45   |         Young Boys vs Aston Villa          |       Liga Champions      |  beIN Sports 3   |\n",
      "+----------+--------------------------------------------+---------------------------+------------------+\n",
      "Rabu, 18 September 2024\n",
      "+----------+------------------------------------+---------------------------+------------------+\n",
      "| Kick-off |            Pertandingan            |         Kompetisi         |    Stasiun TV    |\n",
      "+----------+------------------------------------+---------------------------+------------------+\n",
      "|  01:45   |  Blackpool vs Sheffield Wednesday  |     Piala Liga Inggris    |      Vidio       |\n",
      "|  01:45   |       QPR vs Crystal Palace        |     Piala Liga Inggris    |      Vidio       |\n",
      "|  01:45   |    Preston North End vs Fulham     |     Piala Liga Inggris    |      Vidio       |\n",
      "|  01:45   |     Brentford vs Leyton Orient     |     Piala Liga Inggris    |      Vidio       |\n",
      "|  01:45   |   Manchester United vs Barnsley    |     Piala Liga Inggris    |      Vidio       |\n",
      "|  02:00   |      Real Madrid vs Stuttgart      |       Liga Champions      |  beIN Sports 1   |\n",
      "|  02:00   |       AC Milan vs Liverpool        |       Liga Champions      |  beIN Sports 3   |\n",
      "|  07:30   |      Colo-Colo vs River Plate      |     Copa Libertadores     |     Mola TV      |\n",
      "|  07:30   |      Fortaleza vs Corinthians      |     Copa Sudamericana     |     Mola TV      |\n",
      "|  15:30   |   Semen Padang vs Barito Putera    |      Liga 1 Indonesia     | Vidio / Indosiar |\n",
      "|  15:30   | Persik Kediri vs Persita Tangerang |      Liga 1 Indonesia     |      Vidio       |\n",
      "|  17:00   |   Ulsan HD vs Kawasaki Frontale    | Liga Champions Asia Elite |     Vision+      |\n",
      "|  19:00   | Persebaya Surabaya vs Persis Solo  |      Liga 1 Indonesia     | Vidio / Indosiar |\n",
      "|  21:00   |   Manchester City vs Inter Milan   |     UEFA Youth League     |  beIN Sports 3   |\n",
      "|  23:45   |    Bologna vs Shakhtar Donetsk     |       Liga Champions      |  beIN Sports 1   |\n",
      "|  23:45   | Sparta Praha vs Red Bull Salzburg  |       Liga Champions      |  beIN Sports 3   |\n",
      "+----------+------------------------------------+---------------------------+------------------+\n",
      "Kamis, 19 September 2024\n",
      "+----------+---------------------------------+---------------------+----------------+\n",
      "| Kick-off |           Pertandingan          |      Kompetisi      |   Stasiun TV   |\n",
      "+----------+---------------------------------+---------------------+----------------+\n",
      "|  02:00   |          PSG vs Girona          |    Liga Champions   | beIN Sports 1  |\n",
      "|  02:00   |  Manchester City vs Inter Milan |    Liga Champions   | beIN Sports 3  |\n",
      "|  05:00   |  Fluminense vs Atletico Mineiro |  Copa Libertadores  |    Mola TV     |\n",
      "|  06:30   |  Atlanta United vs Inter Miami  |         MLS         |    Apple TV    |\n",
      "|  07:30   |      Botafogo vs Sao Paulo      |  Copa Libertadores  |    Mola TV     |\n",
      "|  07:30   | Lanus vs Independiente Medellin |  Copa Sudamericana  |    Mola TV     |\n",
      "|  08:30   |   Salt Lake City vs FC Dallas   |         MLS         |    Apple TV    |\n",
      "|  19:00   |        Persib vs Port FC        | Liga Champions Asia | RCTI / Vision+ |\n",
      "|  21:00   |      AS Monaco vs Barcelona     |  UEFA Youth League  | beIN Sports 3  |\n",
      "|  23:45   |     Crvena Zvezda vs Benfica    |    Liga Champions   | beIN Sports 1  |\n",
      "|  23:45   |  Feyenoord vs Bayer Leverkusen  |    Liga Champions   | beIN Sports 3  |\n",
      "+----------+---------------------------------+---------------------+----------------+\n",
      "Jumat, 20 September 2024\n",
      "+----------+-------------------------------------+-------------------+------------------+\n",
      "| Kick-off |             Pertandingan            |     Kompetisi     |    Stasiun TV    |\n",
      "+----------+-------------------------------------+-------------------+------------------+\n",
      "|  02:00   |        AS Monaco vs Barcelona       |   Liga Champions  |  beIN Sports 1   |\n",
      "|  02:00   |         Atalanta vs Arsenal         |   Liga Champions  |  beIN Sports 3   |\n",
      "|  05:00   |         Flamengo vs Penarol         | Copa Libertadores |     Mola TV      |\n",
      "|  07:30   | Athletico Paranaense vs Racing Club | Copa Sudamericana |     Mola TV      |\n",
      "|  07:30   |         Libertad vs Cruzeiro        | Copa Sudamericana |     Mola TV      |\n",
      "|  15:30   |        PSS Sleman vs Arema FC       |  Liga 1 Indonesia | Vidio / Indosiar |\n",
      "|  19:00   |    PSM Makassar vs PSIS Semarang    |  Liga 1 Indonesia | Vidio / Indosiar |\n",
      "+----------+-------------------------------------+-------------------+------------------+\n"
     ]
    }
   ],
   "source": [
    "for i in range(0, len(df_list)):\n",
    "  tgl = tanggal[i].text\n",
    "  table = PrettyTable([\"Kick-off\", \"Pertandingan\", \"Kompetisi\", \"Stasiun TV\"])\n",
    "  for k, p, kom, s in df_list[i].values:\n",
    "      table.add_row([k, p, kom, s])\n",
    "  print(tgl)\n",
    "  print(table)"
   ]
  },
  {
   "cell_type": "code",
   "execution_count": 16,
   "metadata": {
    "colab": {
     "base_uri": "https://localhost:8080/"
    },
    "id": "jQT3oQicIYPi",
    "outputId": "f8de9ca4-bb17-4d5f-c5a4-0f4343a717a2"
   },
   "outputs": [
    {
     "name": "stdout",
     "output_type": "stream",
     "text": [
      "Mencetak DataFrame ke PDF:\n",
      "   Kick-off                                Pertandingan  \\\n",
      "0     01:00                       Al-Ahli vs Persepolis   \n",
      "1     02:00                   Rayo Vallecano vs Osasuna   \n",
      "2     15:30                  PSBS Biak vs Madura United   \n",
      "3     17:00           Gwangju FC vs Yokohama F. Marinos   \n",
      "4     17:00  Shandong Taishan vs Central Coast Mariners   \n",
      "5     19:00               Buriram United vs Vissel Kobe   \n",
      "6     19:00         Borneo FC Samarinda vs Malut United   \n",
      "7     19:00                   Juventus vs PSV Eindhoven   \n",
      "8     21:00                        Pakhtakor vs Al Wasl   \n",
      "9     21:00              Bayern Munich vs Dinamo Zagreb   \n",
      "10    23:00                       Al-Rayyan vs Al-Hilal   \n",
      "11    23:45                   Juventus vs PSV Eindhoven   \n",
      "12    23:45                   Young Boys vs Aston Villa   \n",
      "\n",
      "                    Kompetisi        Stasiun TV  \n",
      "0         Liga Champions Asia    RCTI / Vision+  \n",
      "1                Liga Spanyol     beIN Sports 3  \n",
      "2            Liga 1 Indonesia  Vidio / Indosiar  \n",
      "3   Liga Champions Asia Elite           Vision+  \n",
      "4   Liga Champions Asia Elite           Vision+  \n",
      "5   Liga Champions Asia Elite           Vision+  \n",
      "6            Liga 1 Indonesia  Vidio / Indosiar  \n",
      "7           UEFA Youth League     beIN Sports 3  \n",
      "8   Liga Champions Asia Elite           Vision+  \n",
      "9           UEFA Youth League     beIN Sports 3  \n",
      "10  Liga Champions Asia Elite           Vision+  \n",
      "11             Liga Champions     beIN Sports 1  \n",
      "12             Liga Champions     beIN Sports 3  \n",
      "Mencetak DataFrame ke PDF:\n",
      "   Kick-off                        Pertandingan                  Kompetisi  \\\n",
      "0     01:45    Blackpool vs Sheffield Wednesday         Piala Liga Inggris   \n",
      "1     01:45               QPR vs Crystal Palace         Piala Liga Inggris   \n",
      "2     01:45         Preston North End vs Fulham         Piala Liga Inggris   \n",
      "3     01:45          Brentford vs Leyton Orient         Piala Liga Inggris   \n",
      "4     01:45       Manchester United vs Barnsley         Piala Liga Inggris   \n",
      "5     02:00            Real Madrid vs Stuttgart             Liga Champions   \n",
      "6     02:00               AC Milan vs Liverpool             Liga Champions   \n",
      "7     07:30            Colo-Colo vs River Plate          Copa Libertadores   \n",
      "8     07:30            Fortaleza vs Corinthians          Copa Sudamericana   \n",
      "9     15:30       Semen Padang vs Barito Putera           Liga 1 Indonesia   \n",
      "10    15:30  Persik Kediri vs Persita Tangerang           Liga 1 Indonesia   \n",
      "11    17:00       Ulsan HD vs Kawasaki Frontale  Liga Champions Asia Elite   \n",
      "12    19:00   Persebaya Surabaya vs Persis Solo           Liga 1 Indonesia   \n",
      "13    21:00      Manchester City vs Inter Milan          UEFA Youth League   \n",
      "14    23:45         Bologna vs Shakhtar Donetsk             Liga Champions   \n",
      "15    23:45   Sparta Praha vs Red Bull Salzburg             Liga Champions   \n",
      "\n",
      "          Stasiun TV  \n",
      "0              Vidio  \n",
      "1              Vidio  \n",
      "2              Vidio  \n",
      "3              Vidio  \n",
      "4              Vidio  \n",
      "5      beIN Sports 1  \n",
      "6      beIN Sports 3  \n",
      "7            Mola TV  \n",
      "8            Mola TV  \n",
      "9   Vidio / Indosiar  \n",
      "10             Vidio  \n",
      "11           Vision+  \n",
      "12  Vidio / Indosiar  \n",
      "13     beIN Sports 3  \n",
      "14     beIN Sports 1  \n",
      "15     beIN Sports 3  \n",
      "Mencetak DataFrame ke PDF:\n",
      "   Kick-off                     Pertandingan            Kompetisi  \\\n",
      "0     02:00                    PSG vs Girona       Liga Champions   \n",
      "1     02:00   Manchester City vs Inter Milan       Liga Champions   \n",
      "2     05:00   Fluminense vs Atletico Mineiro    Copa Libertadores   \n",
      "3     06:30    Atlanta United vs Inter Miami                  MLS   \n",
      "4     07:30            Botafogo vs Sao Paulo    Copa Libertadores   \n",
      "5     07:30  Lanus vs Independiente Medellin    Copa Sudamericana   \n",
      "6     08:30      Salt Lake City vs FC Dallas                  MLS   \n",
      "7     19:00                Persib vs Port FC  Liga Champions Asia   \n",
      "8     21:00           AS Monaco vs Barcelona    UEFA Youth League   \n",
      "9     23:45         Crvena Zvezda vs Benfica       Liga Champions   \n",
      "10    23:45    Feyenoord vs Bayer Leverkusen       Liga Champions   \n",
      "\n",
      "        Stasiun TV  \n",
      "0    beIN Sports 1  \n",
      "1    beIN Sports 3  \n",
      "2          Mola TV  \n",
      "3         Apple TV  \n",
      "4          Mola TV  \n",
      "5          Mola TV  \n",
      "6         Apple TV  \n",
      "7   RCTI / Vision+  \n",
      "8    beIN Sports 3  \n",
      "9    beIN Sports 1  \n",
      "10   beIN Sports 3  \n",
      "Mencetak DataFrame ke PDF:\n",
      "  Kick-off                         Pertandingan          Kompetisi  \\\n",
      "0    02:00               AS Monaco vs Barcelona     Liga Champions   \n",
      "1    02:00                  Atalanta vs Arsenal     Liga Champions   \n",
      "2    05:00                  Flamengo vs Penarol  Copa Libertadores   \n",
      "3    07:30  Athletico Paranaense vs Racing Club  Copa Sudamericana   \n",
      "4    07:30                 Libertad vs Cruzeiro  Copa Sudamericana   \n",
      "5    15:30               PSS Sleman vs Arema FC   Liga 1 Indonesia   \n",
      "6    19:00        PSM Makassar vs PSIS Semarang   Liga 1 Indonesia   \n",
      "\n",
      "         Stasiun TV  \n",
      "0     beIN Sports 1  \n",
      "1     beIN Sports 3  \n",
      "2           Mola TV  \n",
      "3           Mola TV  \n",
      "4           Mola TV  \n",
      "5  Vidio / Indosiar  \n",
      "6  Vidio / Indosiar  \n"
     ]
    }
   ],
   "source": [
    "for df in df_list:\n",
    "    print(\"Mencetak DataFrame ke PDF:\")\n",
    "    print(df)"
   ]
  },
  {
   "cell_type": "code",
   "execution_count": 17,
   "metadata": {
    "colab": {
     "base_uri": "https://localhost:8080/"
    },
    "id": "5uOlK-mBHVZ1",
    "outputId": "d840643c-e389-4f94-f8d5-07bcc0ff98b5"
   },
   "outputs": [
    {
     "name": "stdout",
     "output_type": "stream",
     "text": [
      "Collecting fpdf\n",
      "  Downloading fpdf-1.7.2.tar.gz (39 kB)\n",
      "  Installing build dependencies: started\n",
      "  Installing build dependencies: finished with status 'done'\n",
      "  Getting requirements to build wheel: started\n",
      "  Getting requirements to build wheel: finished with status 'done'\n",
      "  Preparing metadata (pyproject.toml): started\n",
      "  Preparing metadata (pyproject.toml): finished with status 'done'\n",
      "Building wheels for collected packages: fpdf\n",
      "  Building wheel for fpdf (pyproject.toml): started\n",
      "  Building wheel for fpdf (pyproject.toml): finished with status 'done'\n",
      "  Created wheel for fpdf: filename=fpdf-1.7.2-py2.py3-none-any.whl size=40714 sha256=a4e13aa4c931d2ecf61775631e7f31eed5089f062a63b5f12db87f2cfa84a298\n",
      "  Stored in directory: c:\\users\\cocri\\appdata\\local\\pip\\cache\\wheels\\6e\\62\\11\\dc73d78e40a218ad52e7451f30166e94491be013a7850b5d75\n",
      "Successfully built fpdf\n",
      "Installing collected packages: fpdf\n",
      "Successfully installed fpdf-1.7.2\n"
     ]
    }
   ],
   "source": [
    "!pip install fpdf\n",
    "\n",
    "from fpdf import FPDF\n",
    "import pandas as pd\n",
    "\n",
    "def df_to_pdf(df_list, file_name):\n",
    "    pdf = FPDF()\n",
    "    pdf.add_page()\n",
    "    pdf.set_font(\"Arial\", size=10)\n",
    "    index = 0\n",
    "\n",
    "    for df in df_list:\n",
    "        if df.empty:\n",
    "            print(\"DataFrame kosong, tidak ada data untuk ditampilkan.\")\n",
    "            continue\n",
    "\n",
    "        pdf.set_font(\"Arial\", 'B', size=10)\n",
    "        tgl = tanggal[index].text\n",
    "        pdf.cell(0, 10, tgl, 1, 1, 'C')\n",
    "        index += 1\n",
    "\n",
    "        # Headers\n",
    "        pdf.set_font(\"Arial\", 'B', size=10)\n",
    "        col_widths = [40, 80, 30, 40]\n",
    "\n",
    "        headers = df.columns.tolist()\n",
    "        for idx, header in enumerate(headers):\n",
    "            pdf.cell(col_widths[idx], 10, header, border=1)\n",
    "        pdf.ln()\n",
    "\n",
    "        # Data\n",
    "        pdf.set_font(\"Arial\", size=10)\n",
    "        for i, row in df.iterrows():\n",
    "            for col_idx, data in enumerate(row):\n",
    "              pdf.cell(col_widths[col_idx], 10, str(data), border=1)\n",
    "            pdf.ln()\n",
    "\n",
    "        pdf.ln(10)\n",
    "\n",
    "    pdf.output(file_name)\n",
    "\n",
    "df_to_pdf(df_list, \"jadwal_pertandingan.pdf\")"
   ]
  },
  {
   "cell_type": "code",
   "execution_count": 18,
   "metadata": {
    "colab": {
     "base_uri": "https://localhost:8080/"
    },
    "id": "wC_d1trLVNOL",
    "outputId": "5c659d27-d899-485b-cf97-41ea01e9b017"
   },
   "outputs": [
    {
     "name": "stdout",
     "output_type": "stream",
     "text": [
      "18\n"
     ]
    }
   ],
   "source": [
    "import datetime\n",
    "\n",
    "x = datetime.datetime.now()\n",
    "day = x.strftime(\"%d\")\n",
    "print(day)"
   ]
  },
  {
   "cell_type": "code",
   "execution_count": 19,
   "metadata": {
    "colab": {
     "base_uri": "https://localhost:8080/"
    },
    "id": "QlywlIAeXjtN",
    "outputId": "d12f971d-f60a-4ee5-96c3-86896262212f"
   },
   "outputs": [
    {
     "name": "stdout",
     "output_type": "stream",
     "text": [
      "17\n",
      "18\n",
      "19\n",
      "20\n"
     ]
    }
   ],
   "source": [
    "for i in tanggal:\n",
    "  tanggal_saja = i.text.split(' ')[1]\n",
    "  print(tanggal_saja)"
   ]
  }
 ],
 "metadata": {
  "colab": {
   "provenance": []
  },
  "kernelspec": {
   "display_name": "Python 3 (ipykernel)",
   "language": "python",
   "name": "python3"
  },
  "language_info": {
   "codemirror_mode": {
    "name": "ipython",
    "version": 3
   },
   "file_extension": ".py",
   "mimetype": "text/x-python",
   "name": "python",
   "nbconvert_exporter": "python",
   "pygments_lexer": "ipython3",
   "version": "3.12.3"
  }
 },
 "nbformat": 4,
 "nbformat_minor": 4
}
